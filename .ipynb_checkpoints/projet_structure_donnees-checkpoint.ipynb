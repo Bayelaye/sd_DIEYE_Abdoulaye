{
 "cells": [
  {
   "cell_type": "code",
   "execution_count": 1,
   "id": "6e18cc04",
   "metadata": {},
   "outputs": [],
   "source": [
    "# from tkinter import *\n",
    "# from tkinter import filedialog\n",
    "# from tkinter import messagebox\n",
    "\n",
    " \n",
    "# # Création d'une instance du cadre tkinter\n",
    "# ws = Tk()\n",
    "# ws.title(\"Menu de Selection de Fichiers\")\n",
    "\n",
    "\n",
    "# # Définition de la géométrie du cadre tkinter\n",
    "# ws.geometry(\"750x350\")\n",
    "# ws.eval('tk::PlaceWindow . center')\n",
    "\n",
    "\n",
    "\n",
    "# def get_file_path():\n",
    "#     global file_path1\n",
    "    \n",
    "#     file_path1= filedialog.askopenfilename(title = \"Select A File\", filetypes = (('text files', '*.txt'),\n",
    "#         ('All files', '*.*')))\n",
    "#     if file_path1:\n",
    "#         l1 = Label(ws, text = \"File path: \" + file_path1).pack()\n",
    "#         print(file_path1)\n",
    "#         ws.destroy()\n",
    "\n",
    "# # Ajouter un widget label\n",
    "# label = Label(ws, text=\"Cliquez sur le bouton Naviguez pour parcourir les fichiers\", font=('Georgia 18'))\n",
    "# label.pack(pady=10)\n",
    "\n",
    "\n",
    "# # Création d'un bouton\n",
    "# button = Button(ws, text = \"Naviguez\", command = get_file_path).pack(pady=10)\n",
    "\n",
    "\n",
    "# ws.mainloop()\n",
    "\n"
   ]
  },
  {
   "cell_type": "code",
   "execution_count": 2,
   "id": "f97a9446",
   "metadata": {},
   "outputs": [],
   "source": [
    "# Cette fonction verifie si un fichier est dans un format valide (csv, json, yaml, xml)\n",
    "\n",
    "def valide_file(path_file):\n",
    "#     extension = [\".csv\", \".json\", \".yaml\", \".xml\"]\n",
    "    if path_file.split(\"/\")[-1].endswith((\".csv\", \".json\", \".yaml\", \".xml\")):\n",
    "        return True\n",
    "    else:\n",
    "        return False"
   ]
  },
  {
   "cell_type": "code",
   "execution_count": 3,
   "id": "5176f118",
   "metadata": {},
   "outputs": [
    {
     "data": {
      "text/plain": [
       "False"
      ]
     },
     "execution_count": 3,
     "metadata": {},
     "output_type": "execute_result"
    }
   ],
   "source": [
    "valide_file(\"/home/biglaye/Documents/Sonatel_academy/Systeme_fichier/Projet/Bookstore.csvv\")"
   ]
  },
  {
   "cell_type": "code",
   "execution_count": 4,
   "id": "695ddd2c",
   "metadata": {},
   "outputs": [],
   "source": [
    "# # convertier un fichier csv en dictionnaire\n",
    "# import csv\n",
    "  \n",
    "# def csv_to_dico(path_file):\n",
    "\n",
    "#     with open(path_file, mode='r') as inp:\n",
    "#         reader = csv.reader(inp)\n",
    "#         liste_dico = [line for line in reader]  \n",
    "#         csv_dict = { liste_dico[0][i] : [liste_dico[j][i] for j in range (1,len(liste_dico))] for i in range(len(liste_dico[0]))}\n",
    "#         return csv_dict"
   ]
  },
  {
   "cell_type": "code",
   "execution_count": 5,
   "id": "d70137af",
   "metadata": {},
   "outputs": [],
   "source": [
    "# csv_to_dico('/home/biglaye/Documents/Sonatel_academy/Systeme_fichier/Projet/eleves.csv')"
   ]
  },
  {
   "cell_type": "code",
   "execution_count": null,
   "id": "1f17a97e",
   "metadata": {},
   "outputs": [],
   "source": []
  },
  {
   "cell_type": "code",
   "execution_count": 6,
   "id": "ec13531e",
   "metadata": {},
   "outputs": [],
   "source": [
    "# # Cette fonction permet deconvertir un fichier json en dictionnaire \n",
    "\n",
    "# # Importation de json Python module\n",
    "# import json\n",
    "\n",
    "# def json_to_dict(file_path):\n",
    "\n",
    "#     # Ouverture du fichier Json avec la fonction open()\n",
    "#     with open(file_path, mode='r') as f:  \n",
    "\n",
    "#         # Convertion des données JSON en objet Python\n",
    "#         json_dict = json.load(f)\n",
    "#         return json_dict"
   ]
  },
  {
   "cell_type": "code",
   "execution_count": 7,
   "id": "73c76cd3",
   "metadata": {},
   "outputs": [],
   "source": [
    "# json_to_dict(\"/home/biglaye/Documents/Sonatel_academy/Systeme_fichier/Bookstore.json\")"
   ]
  },
  {
   "cell_type": "code",
   "execution_count": 8,
   "id": "deed0eef",
   "metadata": {},
   "outputs": [],
   "source": [
    "# # Cette fonction permet deconvertir un fichier yaml en liste de dictionnaire \n",
    "\n",
    "# # Importation du module yaml de Python.\n",
    "# import yaml\n",
    "\n",
    "# def yaml_to_dict(file_path):\n",
    "\n",
    "#     # Ouverture du fichier yaml avec la fonction open\n",
    "#     with open(file_path, mode='r') as f: \n",
    "\n",
    "#         # Convertion des données yaml en objet Python\n",
    "#         yaml_dict = yaml.load(f, Loader=yaml.FullLoader)\n",
    "#         return yaml_dict"
   ]
  },
  {
   "cell_type": "code",
   "execution_count": 9,
   "id": "9555d32d",
   "metadata": {},
   "outputs": [],
   "source": [
    "# yaml_to_dict(\"/home/biglaye/Documents/Sonatel_academy/Systeme_fichier/Projet/yaml_file.yaml\")"
   ]
  },
  {
   "cell_type": "code",
   "execution_count": 10,
   "id": "b938d926",
   "metadata": {},
   "outputs": [],
   "source": [
    "# # Cette fonction permet deconvertir un fichier yaml en liste de dictionnaire \n",
    "\n",
    "# # Importation du module xmltodict de Python qui parcourt l'entrée XML donnée et la convertit en un dictionnaire.\n",
    "# import xmltodict\n",
    "\n",
    "# def xml_to_dict(file_path):\n",
    "    \n",
    "#     # Ouverture du fichier xml avec la fonction open\n",
    "#     with open(file_path, 'r', encoding='utf-8') as f:\n",
    "#         my_xml = f.read() \n",
    "\n",
    "#         # Use xmltodict to parse and convert \n",
    "#         # the XML document\n",
    "#         xml_dict = xmltodict.parse(my_xml, dict_constructor = dict)\n",
    "\n",
    "#         # Print the dictionary\n",
    "#         return xml_dict"
   ]
  },
  {
   "cell_type": "code",
   "execution_count": 11,
   "id": "31a39a10",
   "metadata": {},
   "outputs": [],
   "source": [
    "# xml_to_dict(\"/home/biglaye/Documents/Sonatel_academy/Systeme_fichier/Projet/Bookstore.xml\")"
   ]
  },
  {
   "cell_type": "code",
   "execution_count": 12,
   "id": "0024506c",
   "metadata": {},
   "outputs": [],
   "source": [
    "# Fonction qui convertit un fichier de format valide en dictionnaire\n",
    "import csv\n",
    "import json\n",
    "import yaml\n",
    "import xml\n",
    "import xmltodict\n",
    "\n",
    "\n",
    "def valide_to_dico(file_path):\n",
    "    chemin = file_path.split(\"/\")[-1]\n",
    "    if chemin.endswith (\".csv\"):\n",
    "        with open(file_path, mode='r') as inp:\n",
    "            reader = csv.reader(inp)\n",
    "            liste_dico = [line for line in reader]  \n",
    "            csv_dict = { liste_dico[0][i] : [liste_dico[j][i] for j in range (1,len(liste_dico))] for i in range(len(liste_dico[0]))}\n",
    "            return csv_dict\n",
    "    elif chemin.endswith (\".json\"):\n",
    "        # Ouverture du fichier Json avec la fonction open()\n",
    "        with open(file_path, mode='r') as f:  \n",
    "\n",
    "            # Convertion des données JSON en objet Python\n",
    "            json_dict = json.load(f)\n",
    "            return json_dict\n",
    "    elif chemin.endswith (\".yaml\"):    \n",
    "        # Ouverture du fichier yaml avec la fonction open\n",
    "        with open(file_path, mode='r') as f: \n",
    "            # Convertion des données yaml en objet Python\n",
    "            yaml_dict = yaml.load(f, Loader=yaml.FullLoader)\n",
    "            return yaml_dict\n",
    "    elif chemin.endswith (\".xml\"):\n",
    "        # Ouverture du fichier xml avec la fonction open\n",
    "        with open(file_path, 'r', encoding='utf-8') as f:\n",
    "            my_xml = f.read() \n",
    "\n",
    "            # Use xmltodict to parse and convert \n",
    "            # the XML document\n",
    "            xml_dict = xmltodict.parse(my_xml, dict_constructor = dict)\n",
    "\n",
    "            # Print the dictionary\n",
    "            return xml_dict\n"
   ]
  },
  {
   "cell_type": "code",
   "execution_count": 13,
   "id": "d5dd4ff7",
   "metadata": {},
   "outputs": [
    {
     "ename": "FileNotFoundError",
     "evalue": "[Errno 2] No such file or directory: '/home/biglaye/Documents/Sonatel_academy/Systeme_fichier/Projet/eleves.csv'",
     "output_type": "error",
     "traceback": [
      "\u001b[0;31m---------------------------------------------------------------------------\u001b[0m",
      "\u001b[0;31mFileNotFoundError\u001b[0m                         Traceback (most recent call last)",
      "Input \u001b[0;32mIn [13]\u001b[0m, in \u001b[0;36m<module>\u001b[0;34m\u001b[0m\n\u001b[0;32m----> 1\u001b[0m \u001b[43mvalide_to_dico\u001b[49m\u001b[43m(\u001b[49m\u001b[38;5;124;43m'\u001b[39;49m\u001b[38;5;124;43m/home/biglaye/Documents/Sonatel_academy/Systeme_fichier/Projet/eleves.csv\u001b[39;49m\u001b[38;5;124;43m'\u001b[39;49m\u001b[43m)\u001b[49m\n",
      "Input \u001b[0;32mIn [12]\u001b[0m, in \u001b[0;36mvalide_to_dico\u001b[0;34m(file_path)\u001b[0m\n\u001b[1;32m     10\u001b[0m chemin \u001b[38;5;241m=\u001b[39m file_path\u001b[38;5;241m.\u001b[39msplit(\u001b[38;5;124m\"\u001b[39m\u001b[38;5;124m/\u001b[39m\u001b[38;5;124m\"\u001b[39m)[\u001b[38;5;241m-\u001b[39m\u001b[38;5;241m1\u001b[39m]\n\u001b[1;32m     11\u001b[0m \u001b[38;5;28;01mif\u001b[39;00m chemin\u001b[38;5;241m.\u001b[39mendswith (\u001b[38;5;124m\"\u001b[39m\u001b[38;5;124m.csv\u001b[39m\u001b[38;5;124m\"\u001b[39m):\n\u001b[0;32m---> 12\u001b[0m     \u001b[38;5;28;01mwith\u001b[39;00m \u001b[38;5;28;43mopen\u001b[39;49m\u001b[43m(\u001b[49m\u001b[43mfile_path\u001b[49m\u001b[43m,\u001b[49m\u001b[43m \u001b[49m\u001b[43mmode\u001b[49m\u001b[38;5;241;43m=\u001b[39;49m\u001b[38;5;124;43m'\u001b[39;49m\u001b[38;5;124;43mr\u001b[39;49m\u001b[38;5;124;43m'\u001b[39;49m\u001b[43m)\u001b[49m \u001b[38;5;28;01mas\u001b[39;00m inp:\n\u001b[1;32m     13\u001b[0m         reader \u001b[38;5;241m=\u001b[39m csv\u001b[38;5;241m.\u001b[39mreader(inp)\n\u001b[1;32m     14\u001b[0m         liste_dico \u001b[38;5;241m=\u001b[39m [line \u001b[38;5;28;01mfor\u001b[39;00m line \u001b[38;5;129;01min\u001b[39;00m reader]  \n",
      "\u001b[0;31mFileNotFoundError\u001b[0m: [Errno 2] No such file or directory: '/home/biglaye/Documents/Sonatel_academy/Systeme_fichier/Projet/eleves.csv'"
     ]
    }
   ],
   "source": [
    "valide_to_dico('/home/biglaye/Documents/Sonatel_academy/Systeme_fichier/Projet/eleves.csv')"
   ]
  },
  {
   "cell_type": "markdown",
   "id": "58bec6d0",
   "metadata": {},
   "source": [
    "# Deuxieme partie"
   ]
  },
  {
   "cell_type": "code",
   "execution_count": null,
   "id": "02feb4af",
   "metadata": {},
   "outputs": [],
   "source": [
    "# # Fonction pour convertir dictionnaire en csv\n",
    "# import os\n",
    "# import csv\n",
    "\n",
    "# def dico_to_csv(dico):\n",
    "    \n",
    "    \n",
    "#     with open(\"names.csv\", 'w') as f:\n",
    "#         writer = csv.writer(f)\n",
    "\n",
    "#         key_list = list(A.keys())  \n",
    "\n",
    "#         limit = len(A[key_list[0]])\n",
    "\n",
    "#         writer.writerow(A.keys())\n",
    "\n",
    "#         for i in range(limit):\n",
    "#             writer.writerow(A[x][i] for x in key_list)"
   ]
  },
  {
   "cell_type": "code",
   "execution_count": null,
   "id": "75845d56",
   "metadata": {},
   "outputs": [],
   "source": [
    "# A = {'identifiant': ['Z180', 'X452', 'Z133', 'X013', 'Z412', 'Z011'], 'noms': ['Morgane', 'Jean', 'Marie', 'Pierre', 'Lucie', 'Julie'], 'sexe': ['F', 'M', 'F', 'M', 'F', 'NA'], 'age': ['17', '17', '17', '18', '16', '17']}\n",
    "# A\n"
   ]
  },
  {
   "cell_type": "code",
   "execution_count": null,
   "id": "adbb1e57",
   "metadata": {},
   "outputs": [],
   "source": [
    "# # Fonction pour convertir dictionnaire en yaml\n",
    "# import os\n",
    "# import yaml\n",
    "\n",
    "# B = [{'id': 0, 'title_english': '42', 'title_russian': ' it says, '}, {'id': 1, 'title_english': '1337', 'title_russian': 'is about the most '}, {'id': 2, 'title_english': '0', 'title_russian': 'massively useful thing '}, {'id': 3, 'title_english': '-2', 'title_russian': 'an interstellar hitchhiker can have.'}]\n",
    "# B\n",
    "\n",
    "\n",
    "# with open(\"names.yaml\", 'w') as f:\n",
    "#     documents = yaml.dump(B, f)"
   ]
  },
  {
   "cell_type": "code",
   "execution_count": null,
   "id": "65dcf3c0",
   "metadata": {},
   "outputs": [],
   "source": [
    "# # Fonction pour convertir dictionnaire en json\n",
    "# import os\n",
    "# import json\n",
    "\n",
    "# C = {'Books': [{'ISBN': 'ISBN-0-13-713526-2', 'Price': 85, 'Edition': 3, 'Title': 'A First Course in Database Systems', 'Authors': [{'First_Name': 'Jeffrey', 'Last_Name': 'Ullman'}, {'First_Name': 'Jennifer', 'Last_Name': 'Widom'}]}, {'ISBN': 'ISBN-0-13-815504-6', 'Price': 100, 'Remark': \"Buy this book bundled with 'A First Course' - a great deal!\", 'Title': 'Database Systems:The Complete Book', 'Authors': [{'First_Name': 'Hector', 'Last_Name': 'Garcia-Molina'}, {'First_Name': 'Jeffrey', 'Last_Name': 'Ullman'}, {'First_Name': 'Jennifer', 'Last_Name': 'Widom'}]}], 'Magazines': [{'Title': 'National Geographic', 'Month': 'January', 'Year': 2009}, {'Title': 'Newsweek', 'Month': 'February', 'Year': 2009}]}\n",
    "# C\n",
    "\n",
    "\n",
    "# with open(\"names.json\", 'w') as f:\n",
    "#     documents = json.dump(C, f)"
   ]
  },
  {
   "cell_type": "code",
   "execution_count": null,
   "id": "93d4cc12",
   "metadata": {},
   "outputs": [],
   "source": [
    "# # Converting Python Dictionary to\n",
    "# # XML and saving to a file\n",
    "# from dicttoxml import dicttoxml\n",
    "# from xml.dom.minidom import parseString\n",
    " \n",
    "# D = {'Bookstore': {'Book': [{'@ISBN': 'ISBN-0-13-713526-2', '@Price': '85', '@Edition': '3rd', 'Title': 'A First Course in Database Systems', 'Authors': {'Author': [{'First_Name': 'Jeffrey', 'Last_Name': 'Ullman'}, {'First_Name': 'Jennifer', 'Last_Name': 'Widom'}]}}, {'@ISBN': 'ISBN-0-13-815504-6', '@Price': '100', 'Title': 'Database Systems: The Complete Book', 'Authors': {'Author': [{'First_Name': 'Hector', 'Last_Name': 'Garcia-Molina'}, {'First_Name': 'Jeffrey', 'Last_Name': 'Ullman'}, {'First_Name': 'Jennifer', 'Last_Name': 'Widom'}]}, 'Remark': 'Buy this book bundled with \"A First Course\" - a great deal!'}, {'@ISBN': 'ISBN-0-11-222222-3', '@Price': '50', 'Title': \"Hector and Jeff's Database Hints\", 'Authors': {'Author': [{'First_Name': 'Jeffrey', 'Last_Name': 'Ullman'}, {'First_Name': 'Hector', 'Last_Name': 'Garcia-Molina'}]}, 'Remark': 'An indispensible companion to your textbook'}, {'@ISBN': 'ISBN-9-88-777777-6', '@Price': '25', 'Title': \"Jennifer's Economical Database Hints\", 'Authors': {'Author': {'First_Name': 'Jennifer', 'Last_Name': 'Widom'}}}], 'Magazine': [{'@Month': 'January', '@Year': '2009', 'Title': 'National Geographic'}, {'@Month': 'February', '@Year': '2009', 'Title': 'National Geographic'}, {'@Month': 'February', '@Year': '2009', 'Title': 'Newsweek'}, {'@Month': 'March', '@Year': '2009', 'Title': \"Hector and Jeff's Database Hints\"}]}}\n",
    "# #  Variable name of Dictionary is data\n",
    "# xml = dicttoxml(D)\n",
    " \n",
    "# # Obtain decode string by decode()\n",
    "# # function\n",
    "# xml_decode = xml.decode()\n",
    " \n",
    "# xmlfile = open(\"dict.xml\", \"w\")\n",
    "# xmlfile.write(xml_decode)\n",
    "# xmlfile.close()"
   ]
  },
  {
   "cell_type": "code",
   "execution_count": 14,
   "id": "0bb4047a",
   "metadata": {},
   "outputs": [],
   "source": [
    "# Cette Fonction convertit un dictionnaire en format valide\n",
    "\n",
    "import csv\n",
    "import json\n",
    "import yaml\n",
    "import xml\n",
    "from dicttoxml import dicttoxml\n",
    "from xml.dom.minidom import parseString\n",
    "\n",
    "def dico_to_valide(dico, file_format):\n",
    "    \n",
    "    if file_format.lower() == \"csv\": \n",
    "        with open(\"new_file.csv\", 'w') as f:\n",
    "            writer = csv.writer(f)\n",
    "            key_list = list(A.keys())  \n",
    "            limit = len(A[key_list[0]])\n",
    "            writer.writerow(A.keys())\n",
    "            for i in range(limit):\n",
    "                writer.writerow(A[x][i] for x in key_list)\n",
    "    elif file_format.lower() == \"json\": \n",
    "        with open(\"new_file.json\", 'w') as f:\n",
    "            documents = json.dump(dico, f)\n",
    "    elif file_format.lower() == \"yaml\": \n",
    "        with open(\"new_file.json\", 'w') as f:\n",
    "            documents = yaml.dump(dico, f)              \n",
    "    elif file_format.lower() == \"xml\": \n",
    "        #  Variable name of Dictionary is data\n",
    "        xml = dicttoxml(dico)\n",
    "        # Obtain decode string by decode()\n",
    "        # function\n",
    "        xml_decode = xml.decode()\n",
    "\n",
    "        xmlfile = open(\"new_file.xml\", \"w\")\n",
    "        xmlfile.write(xml_decode)\n",
    "        xmlfile.close()"
   ]
  },
  {
   "cell_type": "code",
   "execution_count": null,
   "id": "6cdbb056",
   "metadata": {},
   "outputs": [],
   "source": []
  },
  {
   "cell_type": "code",
   "execution_count": null,
   "id": "0c519752",
   "metadata": {},
   "outputs": [],
   "source": []
  },
  {
   "cell_type": "code",
   "execution_count": null,
   "id": "840b78b6",
   "metadata": {},
   "outputs": [],
   "source": []
  },
  {
   "cell_type": "code",
   "execution_count": null,
   "id": "d1c75020",
   "metadata": {},
   "outputs": [],
   "source": []
  },
  {
   "cell_type": "code",
   "execution_count": null,
   "id": "3c8050e9",
   "metadata": {},
   "outputs": [],
   "source": []
  },
  {
   "cell_type": "code",
   "execution_count": null,
   "id": "50c6448f",
   "metadata": {},
   "outputs": [],
   "source": []
  },
  {
   "cell_type": "code",
   "execution_count": null,
   "id": "4d94901e",
   "metadata": {},
   "outputs": [],
   "source": []
  },
  {
   "cell_type": "code",
   "execution_count": null,
   "id": "d96119c1",
   "metadata": {},
   "outputs": [],
   "source": []
  },
  {
   "cell_type": "code",
   "execution_count": null,
   "id": "f8ccdc5e",
   "metadata": {},
   "outputs": [],
   "source": []
  },
  {
   "cell_type": "markdown",
   "id": "5d479c55",
   "metadata": {},
   "source": [
    "# CREATION DE MON MENU"
   ]
  },
  {
   "cell_type": "code",
   "execution_count": 25,
   "id": "2b70f7a0",
   "metadata": {},
   "outputs": [],
   "source": [
    "# Fonction qui convertit un fichier de format valide en dictionnaire\n",
    "import csv\n",
    "import json\n",
    "import yaml\n",
    "import xml\n",
    "import xmltodict\n",
    "\n",
    "\n",
    "def valide_to_dico(file_path):\n",
    "    chemin = file_path.split(\"/\")[-1]\n",
    "    if chemin.endswith (\".csv\"):\n",
    "        with open(file_path, mode='r') as inp:\n",
    "            reader = csv.reader(inp)\n",
    "            liste_dico = [line for line in reader]  \n",
    "            csv_dict = { liste_dico[0][i] : [liste_dico[j][i] for j in range (1,len(liste_dico))] for i in range(len(liste_dico[0]))}\n",
    "            return csv_dict\n",
    "    elif chemin.endswith (\".json\"):\n",
    "        # Ouverture du fichier Json avec la fonction open()\n",
    "        with open(file_path, mode='r') as f:  \n",
    "\n",
    "            # Convertion des données JSON en objet Python\n",
    "            json_dict = json.load(f)\n",
    "            return json_dict\n",
    "    elif chemin.endswith (\".yaml\"):    \n",
    "        # Ouverture du fichier yaml avec la fonction open\n",
    "        with open(file_path, mode='r') as f: \n",
    "            # Convertion des données yaml en objet Python\n",
    "            yaml_dict = yaml.load(f, Loader=yaml.FullLoader)\n",
    "            return yaml_dict\n",
    "    elif chemin.endswith (\".xml\"):\n",
    "        # Ouverture du fichier xml avec la fonction open\n",
    "        with open(file_path, 'r', encoding='utf-8') as f:\n",
    "            my_xml = f.read() \n",
    "\n",
    "            # Use xmltodict to parse and convert \n",
    "            # the XML document\n",
    "            xml_dict = xmltodict.parse(my_xml, dict_constructor = dict)\n",
    "\n",
    "            # Print the dictionary\n",
    "            return xml_dict\n"
   ]
  },
  {
   "cell_type": "code",
   "execution_count": 29,
   "id": "6249b657",
   "metadata": {},
   "outputs": [],
   "source": [
    "# Cette Fonction convertit un dictionnaire en format valide\n",
    "\n",
    "import csv\n",
    "import json\n",
    "import yaml\n",
    "import xml\n",
    "from dicttoxml import dicttoxml\n",
    "from xml.dom.minidom import parseString\n",
    "\n",
    "def dico_to_valide(dico, file_format):\n",
    "    \n",
    "    if file_format.lower() == \"csv\": \n",
    "        with open(\"new_file.csv\", 'w') as f:\n",
    "            writer = csv.writer(f)\n",
    "            key_list = list(dico.keys())  \n",
    "            limit = len(dico[key_list[0]])\n",
    "            writer.writerow(dico.keys())\n",
    "            for i in range(limit):\n",
    "                writer.writerow(dico[x][i] for x in key_list)\n",
    "    elif file_format.lower() == \"json\": \n",
    "        with open(\"new_file.json\", 'w') as f:\n",
    "            documents = json.dump(dico, f)\n",
    "    elif file_format.lower() == \"yaml\": \n",
    "        with open(\"new_file.yaml\", 'w') as f:\n",
    "            documents = yaml.dump(dico, f)              \n",
    "    elif file_format.lower() == \"xml\": \n",
    "        #  Variable name of Dictionary is data\n",
    "        xml = dicttoxml(dico)\n",
    "        # Obtain decode string by decode()\n",
    "        # function\n",
    "        xml_decode = xml.decode()\n",
    "\n",
    "        xmlfile = open(\"new_file.xml\", \"w\")\n",
    "        xmlfile.write(xml_decode)\n",
    "        xmlfile.close()"
   ]
  },
  {
   "cell_type": "code",
   "execution_count": 32,
   "id": "e071ab5d",
   "metadata": {},
   "outputs": [
    {
     "name": "stdout",
     "output_type": "stream",
     "text": [
      "Le fichier sélectionné se trouve dans :\n",
      "/home/biglaye/Documents/Sonatel_academy/Systeme_fichier/Projet/new_file.json\n"
     ]
    }
   ],
   "source": [
    "from tkinter import *\n",
    "from tkinter import filedialog\n",
    "from tkinter import messagebox\n",
    "\n",
    "\n",
    "# Création d'une instance du cadre tkinter        \n",
    "ws = Tk()\n",
    "ws.title(\"Menu de Selection de Fichiers\")\n",
    "\n",
    "\n",
    "# Définition de la géométrie du cadre tkinter\n",
    "ws.geometry(\"750x350\")\n",
    "ws.eval('tk::PlaceWindow . center')\n",
    "\n",
    "\n",
    "\n",
    "def get_file_path():\n",
    "    global file_path1\n",
    "\n",
    "    file_path1= filedialog.askopenfilename(title = \"Select A File\", filetypes = (('text files', '*.txt'),\n",
    "        ('All files', '*.*')))\n",
    "    if file_path1:\n",
    "        l1 = Label(ws, text = \"File path: \" + file_path1).pack()\n",
    "        print(f\"Le fichier sélectionné se trouve dans :\\n{file_path1}\")\n",
    "        ws.destroy()\n",
    "\n",
    "# Ajouter un widget label\n",
    "label = Label(ws, text=\"Cliquez sur le bouton Naviguez pour parcourir les fichiers\", font=('Georgia 18'))\n",
    "label.pack(pady=10)\n",
    "\n",
    "\n",
    "# Création d'un bouton\n",
    "button = Button(ws, text = \"Naviguez\", command = get_file_path).pack(pady=10)\n",
    "\n",
    "\n",
    "ws.mainloop()"
   ]
  },
  {
   "cell_type": "code",
   "execution_count": 33,
   "id": "a83567a4",
   "metadata": {},
   "outputs": [
    {
     "name": "stdout",
     "output_type": "stream",
     "text": [
      "1. Choisisser un format de sortie différent du format du fichier récupéré.\n",
      "0. Exit/Quit\n",
      "        \n",
      "1\n",
      "Donner votre format de sortie \n",
      "yaml\n"
     ]
    },
    {
     "ename": "JSONDecodeError",
     "evalue": "Expecting value: line 1 column 1 (char 0)",
     "output_type": "error",
     "traceback": [
      "\u001b[0;31m---------------------------------------------------------------------------\u001b[0m",
      "\u001b[0;31mJSONDecodeError\u001b[0m                           Traceback (most recent call last)",
      "Input \u001b[0;32mIn [33]\u001b[0m, in \u001b[0;36m<module>\u001b[0;34m\u001b[0m\n\u001b[1;32m     11\u001b[0m     \u001b[38;5;28mprint\u001b[39m(\u001b[38;5;124m\"\u001b[39m\u001b[38;5;124mVeuillez choisir un autre format différent du format choisi\u001b[39m\u001b[38;5;124m\"\u001b[39m)\n\u001b[1;32m     12\u001b[0m \u001b[38;5;28;01melse\u001b[39;00m:\n\u001b[0;32m---> 13\u001b[0m     file_path1_to_dic \u001b[38;5;241m=\u001b[39m \u001b[43mvalide_to_dico\u001b[49m\u001b[43m(\u001b[49m\u001b[43mfile_path1\u001b[49m\u001b[43m)\u001b[49m\n\u001b[1;32m     14\u001b[0m     new_file \u001b[38;5;241m=\u001b[39m dico_to_valide(file_path1_to_dic, form)\n\u001b[1;32m     15\u001b[0m     new_path \u001b[38;5;241m=\u001b[39m \u001b[38;5;124m\"\u001b[39m\u001b[38;5;124m/\u001b[39m\u001b[38;5;124m\"\u001b[39m\u001b[38;5;241m.\u001b[39mjoin(file_path1\u001b[38;5;241m.\u001b[39msplit(\u001b[38;5;124m\"\u001b[39m\u001b[38;5;124m/\u001b[39m\u001b[38;5;124m\"\u001b[39m)[:\u001b[38;5;241m-\u001b[39m\u001b[38;5;241m1\u001b[39m])\n",
      "Input \u001b[0;32mIn [25]\u001b[0m, in \u001b[0;36mvalide_to_dico\u001b[0;34m(file_path)\u001b[0m\n\u001b[1;32m     17\u001b[0m \u001b[38;5;28;01melif\u001b[39;00m chemin\u001b[38;5;241m.\u001b[39mendswith (\u001b[38;5;124m\"\u001b[39m\u001b[38;5;124m.json\u001b[39m\u001b[38;5;124m\"\u001b[39m):\n\u001b[1;32m     18\u001b[0m     \u001b[38;5;66;03m# Ouverture du fichier Json avec la fonction open()\u001b[39;00m\n\u001b[1;32m     19\u001b[0m     \u001b[38;5;28;01mwith\u001b[39;00m \u001b[38;5;28mopen\u001b[39m(file_path, mode\u001b[38;5;241m=\u001b[39m\u001b[38;5;124m'\u001b[39m\u001b[38;5;124mr\u001b[39m\u001b[38;5;124m'\u001b[39m) \u001b[38;5;28;01mas\u001b[39;00m f:  \n\u001b[1;32m     20\u001b[0m \n\u001b[1;32m     21\u001b[0m         \u001b[38;5;66;03m# Convertion des données JSON en objet Python\u001b[39;00m\n\u001b[0;32m---> 22\u001b[0m         json_dict \u001b[38;5;241m=\u001b[39m \u001b[43mjson\u001b[49m\u001b[38;5;241;43m.\u001b[39;49m\u001b[43mload\u001b[49m\u001b[43m(\u001b[49m\u001b[43mf\u001b[49m\u001b[43m)\u001b[49m\n\u001b[1;32m     23\u001b[0m         \u001b[38;5;28;01mreturn\u001b[39;00m json_dict\n\u001b[1;32m     24\u001b[0m \u001b[38;5;28;01melif\u001b[39;00m chemin\u001b[38;5;241m.\u001b[39mendswith (\u001b[38;5;124m\"\u001b[39m\u001b[38;5;124m.yaml\u001b[39m\u001b[38;5;124m\"\u001b[39m):    \n\u001b[1;32m     25\u001b[0m     \u001b[38;5;66;03m# Ouverture du fichier yaml avec la fonction open\u001b[39;00m\n",
      "File \u001b[0;32m/usr/lib/python3.9/json/__init__.py:293\u001b[0m, in \u001b[0;36mload\u001b[0;34m(fp, cls, object_hook, parse_float, parse_int, parse_constant, object_pairs_hook, **kw)\u001b[0m\n\u001b[1;32m    274\u001b[0m \u001b[38;5;28;01mdef\u001b[39;00m \u001b[38;5;21mload\u001b[39m(fp, \u001b[38;5;241m*\u001b[39m, \u001b[38;5;28mcls\u001b[39m\u001b[38;5;241m=\u001b[39m\u001b[38;5;28;01mNone\u001b[39;00m, object_hook\u001b[38;5;241m=\u001b[39m\u001b[38;5;28;01mNone\u001b[39;00m, parse_float\u001b[38;5;241m=\u001b[39m\u001b[38;5;28;01mNone\u001b[39;00m,\n\u001b[1;32m    275\u001b[0m         parse_int\u001b[38;5;241m=\u001b[39m\u001b[38;5;28;01mNone\u001b[39;00m, parse_constant\u001b[38;5;241m=\u001b[39m\u001b[38;5;28;01mNone\u001b[39;00m, object_pairs_hook\u001b[38;5;241m=\u001b[39m\u001b[38;5;28;01mNone\u001b[39;00m, \u001b[38;5;241m*\u001b[39m\u001b[38;5;241m*\u001b[39mkw):\n\u001b[1;32m    276\u001b[0m     \u001b[38;5;124;03m\"\"\"Deserialize ``fp`` (a ``.read()``-supporting file-like object containing\u001b[39;00m\n\u001b[1;32m    277\u001b[0m \u001b[38;5;124;03m    a JSON document) to a Python object.\u001b[39;00m\n\u001b[1;32m    278\u001b[0m \n\u001b[0;32m   (...)\u001b[0m\n\u001b[1;32m    291\u001b[0m \u001b[38;5;124;03m    kwarg; otherwise ``JSONDecoder`` is used.\u001b[39;00m\n\u001b[1;32m    292\u001b[0m \u001b[38;5;124;03m    \"\"\"\u001b[39;00m\n\u001b[0;32m--> 293\u001b[0m     \u001b[38;5;28;01mreturn\u001b[39;00m \u001b[43mloads\u001b[49m\u001b[43m(\u001b[49m\u001b[43mfp\u001b[49m\u001b[38;5;241;43m.\u001b[39;49m\u001b[43mread\u001b[49m\u001b[43m(\u001b[49m\u001b[43m)\u001b[49m\u001b[43m,\u001b[49m\n\u001b[1;32m    294\u001b[0m \u001b[43m        \u001b[49m\u001b[38;5;28;43mcls\u001b[39;49m\u001b[38;5;241;43m=\u001b[39;49m\u001b[38;5;28;43mcls\u001b[39;49m\u001b[43m,\u001b[49m\u001b[43m \u001b[49m\u001b[43mobject_hook\u001b[49m\u001b[38;5;241;43m=\u001b[39;49m\u001b[43mobject_hook\u001b[49m\u001b[43m,\u001b[49m\n\u001b[1;32m    295\u001b[0m \u001b[43m        \u001b[49m\u001b[43mparse_float\u001b[49m\u001b[38;5;241;43m=\u001b[39;49m\u001b[43mparse_float\u001b[49m\u001b[43m,\u001b[49m\u001b[43m \u001b[49m\u001b[43mparse_int\u001b[49m\u001b[38;5;241;43m=\u001b[39;49m\u001b[43mparse_int\u001b[49m\u001b[43m,\u001b[49m\n\u001b[1;32m    296\u001b[0m \u001b[43m        \u001b[49m\u001b[43mparse_constant\u001b[49m\u001b[38;5;241;43m=\u001b[39;49m\u001b[43mparse_constant\u001b[49m\u001b[43m,\u001b[49m\u001b[43m \u001b[49m\u001b[43mobject_pairs_hook\u001b[49m\u001b[38;5;241;43m=\u001b[39;49m\u001b[43mobject_pairs_hook\u001b[49m\u001b[43m,\u001b[49m\u001b[43m \u001b[49m\u001b[38;5;241;43m*\u001b[39;49m\u001b[38;5;241;43m*\u001b[39;49m\u001b[43mkw\u001b[49m\u001b[43m)\u001b[49m\n",
      "File \u001b[0;32m/usr/lib/python3.9/json/__init__.py:346\u001b[0m, in \u001b[0;36mloads\u001b[0;34m(s, cls, object_hook, parse_float, parse_int, parse_constant, object_pairs_hook, **kw)\u001b[0m\n\u001b[1;32m    341\u001b[0m     s \u001b[38;5;241m=\u001b[39m s\u001b[38;5;241m.\u001b[39mdecode(detect_encoding(s), \u001b[38;5;124m'\u001b[39m\u001b[38;5;124msurrogatepass\u001b[39m\u001b[38;5;124m'\u001b[39m)\n\u001b[1;32m    343\u001b[0m \u001b[38;5;28;01mif\u001b[39;00m (\u001b[38;5;28mcls\u001b[39m \u001b[38;5;129;01mis\u001b[39;00m \u001b[38;5;28;01mNone\u001b[39;00m \u001b[38;5;129;01mand\u001b[39;00m object_hook \u001b[38;5;129;01mis\u001b[39;00m \u001b[38;5;28;01mNone\u001b[39;00m \u001b[38;5;129;01mand\u001b[39;00m\n\u001b[1;32m    344\u001b[0m         parse_int \u001b[38;5;129;01mis\u001b[39;00m \u001b[38;5;28;01mNone\u001b[39;00m \u001b[38;5;129;01mand\u001b[39;00m parse_float \u001b[38;5;129;01mis\u001b[39;00m \u001b[38;5;28;01mNone\u001b[39;00m \u001b[38;5;129;01mand\u001b[39;00m\n\u001b[1;32m    345\u001b[0m         parse_constant \u001b[38;5;129;01mis\u001b[39;00m \u001b[38;5;28;01mNone\u001b[39;00m \u001b[38;5;129;01mand\u001b[39;00m object_pairs_hook \u001b[38;5;129;01mis\u001b[39;00m \u001b[38;5;28;01mNone\u001b[39;00m \u001b[38;5;129;01mand\u001b[39;00m \u001b[38;5;129;01mnot\u001b[39;00m kw):\n\u001b[0;32m--> 346\u001b[0m     \u001b[38;5;28;01mreturn\u001b[39;00m \u001b[43m_default_decoder\u001b[49m\u001b[38;5;241;43m.\u001b[39;49m\u001b[43mdecode\u001b[49m\u001b[43m(\u001b[49m\u001b[43ms\u001b[49m\u001b[43m)\u001b[49m\n\u001b[1;32m    347\u001b[0m \u001b[38;5;28;01mif\u001b[39;00m \u001b[38;5;28mcls\u001b[39m \u001b[38;5;129;01mis\u001b[39;00m \u001b[38;5;28;01mNone\u001b[39;00m:\n\u001b[1;32m    348\u001b[0m     \u001b[38;5;28mcls\u001b[39m \u001b[38;5;241m=\u001b[39m JSONDecoder\n",
      "File \u001b[0;32m/usr/lib/python3.9/json/decoder.py:337\u001b[0m, in \u001b[0;36mJSONDecoder.decode\u001b[0;34m(self, s, _w)\u001b[0m\n\u001b[1;32m    332\u001b[0m \u001b[38;5;28;01mdef\u001b[39;00m \u001b[38;5;21mdecode\u001b[39m(\u001b[38;5;28mself\u001b[39m, s, _w\u001b[38;5;241m=\u001b[39mWHITESPACE\u001b[38;5;241m.\u001b[39mmatch):\n\u001b[1;32m    333\u001b[0m     \u001b[38;5;124;03m\"\"\"Return the Python representation of ``s`` (a ``str`` instance\u001b[39;00m\n\u001b[1;32m    334\u001b[0m \u001b[38;5;124;03m    containing a JSON document).\u001b[39;00m\n\u001b[1;32m    335\u001b[0m \n\u001b[1;32m    336\u001b[0m \u001b[38;5;124;03m    \"\"\"\u001b[39;00m\n\u001b[0;32m--> 337\u001b[0m     obj, end \u001b[38;5;241m=\u001b[39m \u001b[38;5;28;43mself\u001b[39;49m\u001b[38;5;241;43m.\u001b[39;49m\u001b[43mraw_decode\u001b[49m\u001b[43m(\u001b[49m\u001b[43ms\u001b[49m\u001b[43m,\u001b[49m\u001b[43m \u001b[49m\u001b[43midx\u001b[49m\u001b[38;5;241;43m=\u001b[39;49m\u001b[43m_w\u001b[49m\u001b[43m(\u001b[49m\u001b[43ms\u001b[49m\u001b[43m,\u001b[49m\u001b[43m \u001b[49m\u001b[38;5;241;43m0\u001b[39;49m\u001b[43m)\u001b[49m\u001b[38;5;241;43m.\u001b[39;49m\u001b[43mend\u001b[49m\u001b[43m(\u001b[49m\u001b[43m)\u001b[49m\u001b[43m)\u001b[49m\n\u001b[1;32m    338\u001b[0m     end \u001b[38;5;241m=\u001b[39m _w(s, end)\u001b[38;5;241m.\u001b[39mend()\n\u001b[1;32m    339\u001b[0m     \u001b[38;5;28;01mif\u001b[39;00m end \u001b[38;5;241m!=\u001b[39m \u001b[38;5;28mlen\u001b[39m(s):\n",
      "File \u001b[0;32m/usr/lib/python3.9/json/decoder.py:355\u001b[0m, in \u001b[0;36mJSONDecoder.raw_decode\u001b[0;34m(self, s, idx)\u001b[0m\n\u001b[1;32m    353\u001b[0m     obj, end \u001b[38;5;241m=\u001b[39m \u001b[38;5;28mself\u001b[39m\u001b[38;5;241m.\u001b[39mscan_once(s, idx)\n\u001b[1;32m    354\u001b[0m \u001b[38;5;28;01mexcept\u001b[39;00m \u001b[38;5;167;01mStopIteration\u001b[39;00m \u001b[38;5;28;01mas\u001b[39;00m err:\n\u001b[0;32m--> 355\u001b[0m     \u001b[38;5;28;01mraise\u001b[39;00m JSONDecodeError(\u001b[38;5;124m\"\u001b[39m\u001b[38;5;124mExpecting value\u001b[39m\u001b[38;5;124m\"\u001b[39m, s, err\u001b[38;5;241m.\u001b[39mvalue) \u001b[38;5;28;01mfrom\u001b[39;00m \u001b[38;5;28mNone\u001b[39m\n\u001b[1;32m    356\u001b[0m \u001b[38;5;28;01mreturn\u001b[39;00m obj, end\n",
      "\u001b[0;31mJSONDecodeError\u001b[0m: Expecting value: line 1 column 1 (char 0)"
     ]
    }
   ],
   "source": [
    "if valide_file(file_path1):\n",
    "    print(\"\"\"1. Choisisser un format de sortie différent du format du fichier récupéré.\\n0. Exit/Quit\n",
    "        \"\"\")\n",
    "    while True:\n",
    "        choix = input()\n",
    "        if choix == \"1\":\n",
    "            print(\"Donner votre format de sortie \")\n",
    "            while True:\n",
    "                form = input()\n",
    "                if file_path1.endswith(form.lower()):\n",
    "                    print(\"Veuillez choisir un autre format différent du format choisi\")\n",
    "                else:\n",
    "                    file_path1_to_dic = valide_to_dico(file_path1)\n",
    "                    new_file = dico_to_valide(file_path1_to_dic, form)\n",
    "                    new_path = \"/\".join(file_path1.split(\"/\")[:-1])\n",
    "                    new_path = new_path + \"/new_file.\" + form \n",
    "                    print(f\"Le chemin absolu du fichier de sortie est :\\n{new_path}\")\n",
    "                    break\n",
    "            break\n",
    "        elif choix == \"0\":\n",
    "            print(\"Au revoir !\")\n",
    "            break    \n",
    "else:\n",
    "    print(\"Ce fichier n'est pas dans un format valide\")\n",
    "                    \n",
    "        "
   ]
  },
  {
   "cell_type": "code",
   "execution_count": null,
   "id": "f3b1c915",
   "metadata": {},
   "outputs": [],
   "source": []
  },
  {
   "cell_type": "code",
   "execution_count": null,
   "id": "6ccb0ab9",
   "metadata": {},
   "outputs": [],
   "source": [
    "\n",
    "   "
   ]
  },
  {
   "cell_type": "code",
   "execution_count": null,
   "id": "ea3177cb",
   "metadata": {},
   "outputs": [],
   "source": []
  },
  {
   "cell_type": "code",
   "execution_count": null,
   "id": "3e8069db",
   "metadata": {},
   "outputs": [],
   "source": []
  },
  {
   "cell_type": "code",
   "execution_count": null,
   "id": "02cf7c12",
   "metadata": {},
   "outputs": [],
   "source": []
  },
  {
   "cell_type": "code",
   "execution_count": null,
   "id": "9240b07f",
   "metadata": {},
   "outputs": [],
   "source": []
  },
  {
   "cell_type": "code",
   "execution_count": null,
   "id": "da00d3d9",
   "metadata": {},
   "outputs": [],
   "source": []
  },
  {
   "cell_type": "code",
   "execution_count": null,
   "id": "53482b3e",
   "metadata": {},
   "outputs": [],
   "source": []
  },
  {
   "cell_type": "code",
   "execution_count": null,
   "id": "003e2eac",
   "metadata": {},
   "outputs": [],
   "source": []
  },
  {
   "cell_type": "code",
   "execution_count": null,
   "id": "cbc1bdd9",
   "metadata": {},
   "outputs": [],
   "source": []
  }
 ],
 "metadata": {
  "kernelspec": {
   "display_name": "Python 3.9.5 64-bit",
   "language": "python",
   "name": "python395jvsc74a57bd0f9f85f796d01129d0dd105a088854619f454435301f6ffec2fea96ecbd9be4ac"
  },
  "language_info": {
   "codemirror_mode": {
    "name": "ipython",
    "version": 3
   },
   "file_extension": ".py",
   "mimetype": "text/x-python",
   "name": "python",
   "nbconvert_exporter": "python",
   "pygments_lexer": "ipython3",
   "version": "3.9.5"
  }
 },
 "nbformat": 4,
 "nbformat_minor": 5
}
