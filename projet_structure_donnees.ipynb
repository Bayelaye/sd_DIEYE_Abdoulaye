{
 "cells": [
  {
   "cell_type": "code",
   "execution_count": 1,
   "id": "6e18cc04",
   "metadata": {},
   "outputs": [],
   "source": [
    "# from tkinter import *\n",
    "# from tkinter import filedialog\n",
    "# from tkinter import messagebox\n",
    "\n",
    " \n",
    "# # Création d'une instance du cadre tkinter\n",
    "# ws = Tk()\n",
    "# ws.title(\"Menu de Selection de Fichiers\")\n",
    "\n",
    "\n",
    "# # Définition de la géométrie du cadre tkinter\n",
    "# ws.geometry(\"750x350\")\n",
    "# ws.eval('tk::PlaceWindow . center')\n",
    "\n",
    "\n",
    "\n",
    "# def get_file_path():\n",
    "#     global file_path1\n",
    "    \n",
    "#     file_path1= filedialog.askopenfilename(title = \"Select A File\", filetypes = (('text files', '*.txt'),\n",
    "#         ('All files', '*.*')))\n",
    "#     if file_path1:\n",
    "#         l1 = Label(ws, text = \"File path: \" + file_path1).pack()\n",
    "#         print(file_path1)\n",
    "#         ws.destroy()\n",
    "\n",
    "# # Ajouter un widget label\n",
    "# label = Label(ws, text=\"Cliquez sur le bouton Naviguez pour parcourir les fichiers\", font=('Georgia 18'))\n",
    "# label.pack(pady=10)\n",
    "\n",
    "\n",
    "# # Création d'un bouton\n",
    "# button = Button(ws, text = \"Naviguez\", command = get_file_path).pack(pady=10)\n",
    "\n",
    "\n",
    "# ws.mainloop()\n",
    "\n"
   ]
  },
  {
   "cell_type": "code",
   "execution_count": 2,
   "id": "f97a9446",
   "metadata": {},
   "outputs": [],
   "source": [
    "# Cette fonction verifie si un fichier est dans un format valide (csv, json, yaml, xml)\n",
    "\n",
    "def valide_file(path_file):\n",
    "#     extension = [\".csv\", \".json\", \".yaml\", \".xml\"]\n",
    "    if path_file.split(\"/\")[-1].endswith((\".csv\", \".json\", \".yaml\", \".xml\")):\n",
    "        return True\n",
    "    else:\n",
    "        return False"
   ]
  },
  {
   "cell_type": "code",
   "execution_count": 3,
   "id": "5176f118",
   "metadata": {},
   "outputs": [
    {
     "data": {
      "text/plain": [
       "True"
      ]
     },
     "execution_count": 3,
     "metadata": {},
     "output_type": "execute_result"
    }
   ],
   "source": [
    "valide_file(\"/home/biglaye/Documents/Sonatel_academy/Systeme_fichier/Projet/Bookstore.csv\")"
   ]
  },
  {
   "cell_type": "code",
   "execution_count": 27,
   "id": "695ddd2c",
   "metadata": {},
   "outputs": [],
   "source": [
    "# convertier un fichier csv en dictionnaire\n",
    "import csv\n",
    "  \n",
    "def csv_to_dico(path_file):\n",
    "\n",
    "    with open(path_file, mode='r') as inp:\n",
    "        reader = csv.reader(inp)\n",
    "        liste_dico = [line for line in reader]  \n",
    "        csv_dict = { liste_dico[0][i] : [liste_dico[j][i] for j in range (1,len(liste_dico))] for i in range(len(liste_dico[0]))}\n",
    "        return csv_dict"
   ]
  },
  {
   "cell_type": "code",
   "execution_count": 28,
   "id": "d70137af",
   "metadata": {},
   "outputs": [
    {
     "data": {
      "text/plain": [
       "{'identifiant': ['Z180', 'X452', 'Z133', 'X013', 'Z412', 'Z011'],\n",
       " 'noms': ['Morgane', 'Jean', 'Marie', 'Pierre', 'Lucie', 'Julie'],\n",
       " 'sexe': ['F', 'M', 'F', 'M', 'F', 'NA'],\n",
       " 'age': ['17', '17', '17', '18', '16', '17']}"
      ]
     },
     "execution_count": 28,
     "metadata": {},
     "output_type": "execute_result"
    }
   ],
   "source": [
    "csv_to_dico('/home/biglaye/Documents/Sonatel_academy/Systeme_fichier/Projet/eleves.csv')"
   ]
  },
  {
   "cell_type": "code",
   "execution_count": null,
   "id": "1f17a97e",
   "metadata": {},
   "outputs": [],
   "source": []
  },
  {
   "cell_type": "code",
   "execution_count": 29,
   "id": "ec13531e",
   "metadata": {},
   "outputs": [],
   "source": [
    "# Cette fonction permet deconvertir un fichier json en dictionnaire \n",
    "\n",
    "# Importation de json Python module\n",
    "import json\n",
    "\n",
    "def json_to_dict(file_path):\n",
    "\n",
    "    # Ouverture du fichier Json avec la fonction open()\n",
    "    with open(file_path, mode='r') as f:  \n",
    "\n",
    "        # Convertion des données JSON en objet Python\n",
    "        json_dict = json.load(f)\n",
    "        return json_dict"
   ]
  },
  {
   "cell_type": "code",
   "execution_count": 30,
   "id": "73c76cd3",
   "metadata": {},
   "outputs": [
    {
     "data": {
      "text/plain": [
       "{'Books': [{'ISBN': 'ISBN-0-13-713526-2',\n",
       "   'Price': 85,\n",
       "   'Edition': 3,\n",
       "   'Title': 'A First Course in Database Systems',\n",
       "   'Authors': [{'First_Name': 'Jeffrey', 'Last_Name': 'Ullman'},\n",
       "    {'First_Name': 'Jennifer', 'Last_Name': 'Widom'}]},\n",
       "  {'ISBN': 'ISBN-0-13-815504-6',\n",
       "   'Price': 100,\n",
       "   'Remark': \"Buy this book bundled with 'A First Course' - a great deal!\",\n",
       "   'Title': 'Database Systems:The Complete Book',\n",
       "   'Authors': [{'First_Name': 'Hector', 'Last_Name': 'Garcia-Molina'},\n",
       "    {'First_Name': 'Jeffrey', 'Last_Name': 'Ullman'},\n",
       "    {'First_Name': 'Jennifer', 'Last_Name': 'Widom'}]}],\n",
       " 'Magazines': [{'Title': 'National Geographic',\n",
       "   'Month': 'January',\n",
       "   'Year': 2009},\n",
       "  {'Title': 'Newsweek', 'Month': 'February', 'Year': 2009}]}"
      ]
     },
     "execution_count": 30,
     "metadata": {},
     "output_type": "execute_result"
    }
   ],
   "source": [
    "json_to_dict(\"/home/biglaye/Documents/Sonatel_academy/Systeme_fichier/Bookstore.json\")"
   ]
  },
  {
   "cell_type": "code",
   "execution_count": 35,
   "id": "deed0eef",
   "metadata": {},
   "outputs": [],
   "source": [
    "# Cette fonction permet deconvertir un fichier yaml en liste de dictionnaire \n",
    "\n",
    "# Importation du module yaml de Python.\n",
    "import yaml\n",
    "\n",
    "def yaml_to_dict(file_path):\n",
    "\n",
    "    # Ouverture du fichier yaml avec la fonction open\n",
    "    with open(file_path, mode='r') as f: \n",
    "\n",
    "        # Convertion des données yaml en objet Python\n",
    "        yaml_dict = yaml.load(f, Loader=yaml.FullLoader)\n",
    "        return yaml_dict"
   ]
  },
  {
   "cell_type": "code",
   "execution_count": 36,
   "id": "9555d32d",
   "metadata": {},
   "outputs": [
    {
     "data": {
      "text/plain": [
       "[{'id': 0, 'title_english': '42', 'title_russian': ' it says, '},\n",
       " {'id': 1, 'title_english': '1337', 'title_russian': 'is about the most '},\n",
       " {'id': 2, 'title_english': '0', 'title_russian': 'massively useful thing '},\n",
       " {'id': 3,\n",
       "  'title_english': '-2',\n",
       "  'title_russian': 'an interstellar hitchhiker can have.'}]"
      ]
     },
     "execution_count": 36,
     "metadata": {},
     "output_type": "execute_result"
    }
   ],
   "source": [
    "yaml_to_dict(\"/home/biglaye/Documents/Sonatel_academy/Systeme_fichier/Projet/yaml_file.yaml\")"
   ]
  },
  {
   "cell_type": "code",
   "execution_count": 10,
   "id": "b938d926",
   "metadata": {},
   "outputs": [],
   "source": [
    "# # Cette fonction permet deconvertir un fichier yaml en liste de dictionnaire \n",
    "\n",
    "# # Importation du module xmltodict de Python qui parcourt l'entrée XML donnée et la convertit en un dictionnaire.\n",
    "# import xmltodict\n",
    "\n",
    "# def xml_to_dict(file_path):\n",
    "    \n",
    "#     # Ouverture du fichier xml avec la fonction open\n",
    "#     with open(file_path, 'r', encoding='utf-8') as f:\n",
    "#         my_xml = f.read() \n",
    "\n",
    "#         # Use xmltodict to parse and convert \n",
    "#         # the XML document\n",
    "#         xml_dict = xmltodict.parse(my_xml, dict_constructor = dict)\n",
    "\n",
    "#         # Print the dictionary\n",
    "#         return xml_dict"
   ]
  },
  {
   "cell_type": "code",
   "execution_count": 11,
   "id": "31a39a10",
   "metadata": {},
   "outputs": [],
   "source": [
    "# xml_to_dict(\"/home/biglaye/Documents/Sonatel_academy/Systeme_fichier/Projet/Bookstore.xml\")"
   ]
  },
  {
   "cell_type": "code",
   "execution_count": 12,
   "id": "0024506c",
   "metadata": {},
   "outputs": [],
   "source": [
    "# Fonction qui convertit un fichier de format valide en dictionnaire\n",
    "import csv\n",
    "import json\n",
    "import yaml\n",
    "import xml\n",
    "import xmltodict\n",
    "\n",
    "\n",
    "def valide_to_dico(file_path):\n",
    "    chemin = file_path.split(\"/\")[-1]\n",
    "    if chemin.endswith (\".csv\"):\n",
    "        with open(file_path, mode='r') as inp:\n",
    "            reader = csv.reader(inp)\n",
    "            liste_dico = [line for line in reader]  \n",
    "            csv_dict = { liste_dico[0][i] : [liste_dico[j][i] for j in range (1,len(liste_dico))] for i in range(len(liste_dico[0]))}\n",
    "            return csv_dict\n",
    "    elif chemin.endswith (\".json\"):\n",
    "        # Ouverture du fichier Json avec la fonction open()\n",
    "        with open(file_path, mode='r') as f:  \n",
    "\n",
    "            # Convertion des données JSON en objet Python\n",
    "            json_dict = json.load(f)\n",
    "            return json_dict\n",
    "    elif chemin.endswith (\".yaml\"):    \n",
    "        # Ouverture du fichier yaml avec la fonction open\n",
    "        with open(file_path, mode='r') as f: \n",
    "            # Convertion des données yaml en objet Python\n",
    "            yaml_dict = yaml.load(f, Loader=yaml.FullLoader)\n",
    "            return yaml_dict\n",
    "    elif chemin.endswith (\".xml\"):\n",
    "        # Ouverture du fichier xml avec la fonction open\n",
    "        with open(file_path, 'r', encoding='utf-8') as f:\n",
    "            my_xml = f.read() \n",
    "\n",
    "            # Use xmltodict to parse and convert \n",
    "            # the XML document\n",
    "            xml_dict = xmltodict.parse(my_xml, dict_constructor = dict)\n",
    "\n",
    "            # Print the dictionary\n",
    "            return xml_dict\n"
   ]
  },
  {
   "cell_type": "code",
   "execution_count": 13,
   "id": "d5dd4ff7",
   "metadata": {},
   "outputs": [
    {
     "data": {
      "text/plain": [
       "{'identifiant': ['Z180', 'X452', 'Z133', 'X013', 'Z412', 'Z011'],\n",
       " 'noms': ['Morgane', 'Jean', 'Marie', 'Pierre', 'Lucie', 'Julie'],\n",
       " 'sexe': ['F', 'M', 'F', 'M', 'F', 'NA'],\n",
       " 'age': ['17', '17', '17', '18', '16', '17']}"
      ]
     },
     "execution_count": 13,
     "metadata": {},
     "output_type": "execute_result"
    }
   ],
   "source": [
    "valide_to_dico('/home/biglaye/Documents/Sonatel_academy/Systeme_fichier/Projet/eleves.csv')"
   ]
  },
  {
   "cell_type": "markdown",
   "id": "58bec6d0",
   "metadata": {},
   "source": [
    "# Deuxieme partie"
   ]
  },
  {
   "cell_type": "code",
   "execution_count": 14,
   "id": "02feb4af",
   "metadata": {},
   "outputs": [],
   "source": [
    "# # Fonction pour convertir dictionnaire en csv\n",
    "# import os\n",
    "# import csv\n",
    "\n",
    "# def dico_to_csv(dico):\n",
    "    \n",
    "    \n",
    "#     with open(\"names.csv\", 'w') as f:\n",
    "#         writer = csv.writer(f)\n",
    "\n",
    "#         key_list = list(A.keys())  \n",
    "\n",
    "#         limit = len(A[key_list[0]])\n",
    "\n",
    "#         writer.writerow(A.keys())\n",
    "\n",
    "#         for i in range(limit):\n",
    "#             writer.writerow(A[x][i] for x in key_list)"
   ]
  },
  {
   "cell_type": "code",
   "execution_count": 15,
   "id": "75845d56",
   "metadata": {},
   "outputs": [],
   "source": [
    "# A = {'identifiant': ['Z180', 'X452', 'Z133', 'X013', 'Z412', 'Z011'], 'noms': ['Morgane', 'Jean', 'Marie', 'Pierre', 'Lucie', 'Julie'], 'sexe': ['F', 'M', 'F', 'M', 'F', 'NA'], 'age': ['17', '17', '17', '18', '16', '17']}\n",
    "# A\n"
   ]
  },
  {
   "cell_type": "code",
   "execution_count": 16,
   "id": "adbb1e57",
   "metadata": {},
   "outputs": [],
   "source": [
    "# # Fonction pour convertir dictionnaire en yaml\n",
    "# import os\n",
    "# import yaml\n",
    "\n",
    "# B = [{'id': 0, 'title_english': '42', 'title_russian': ' it says, '}, {'id': 1, 'title_english': '1337', 'title_russian': 'is about the most '}, {'id': 2, 'title_english': '0', 'title_russian': 'massively useful thing '}, {'id': 3, 'title_english': '-2', 'title_russian': 'an interstellar hitchhiker can have.'}]\n",
    "# B\n",
    "\n",
    "\n",
    "# with open(\"names.yaml\", 'w') as f:\n",
    "#     documents = yaml.dump(B, f)"
   ]
  },
  {
   "cell_type": "code",
   "execution_count": 17,
   "id": "65dcf3c0",
   "metadata": {},
   "outputs": [],
   "source": [
    "# # Fonction pour convertir dictionnaire en json\n",
    "# import os\n",
    "# import json\n",
    "\n",
    "# C = {'Books': [{'ISBN': 'ISBN-0-13-713526-2', 'Price': 85, 'Edition': 3, 'Title': 'A First Course in Database Systems', 'Authors': [{'First_Name': 'Jeffrey', 'Last_Name': 'Ullman'}, {'First_Name': 'Jennifer', 'Last_Name': 'Widom'}]}, {'ISBN': 'ISBN-0-13-815504-6', 'Price': 100, 'Remark': \"Buy this book bundled with 'A First Course' - a great deal!\", 'Title': 'Database Systems:The Complete Book', 'Authors': [{'First_Name': 'Hector', 'Last_Name': 'Garcia-Molina'}, {'First_Name': 'Jeffrey', 'Last_Name': 'Ullman'}, {'First_Name': 'Jennifer', 'Last_Name': 'Widom'}]}], 'Magazines': [{'Title': 'National Geographic', 'Month': 'January', 'Year': 2009}, {'Title': 'Newsweek', 'Month': 'February', 'Year': 2009}]}\n",
    "# C\n",
    "\n",
    "\n",
    "# with open(\"names.json\", 'w') as f:\n",
    "#     documents = json.dump(C, f)"
   ]
  },
  {
   "cell_type": "code",
   "execution_count": 18,
   "id": "93d4cc12",
   "metadata": {},
   "outputs": [],
   "source": [
    "# # Converting Python Dictionary to\n",
    "# # XML and saving to a file\n",
    "# from dicttoxml import dicttoxml\n",
    "# from xml.dom.minidom import parseString\n",
    " \n",
    "# D = {'Bookstore': {'Book': [{'@ISBN': 'ISBN-0-13-713526-2', '@Price': '85', '@Edition': '3rd', 'Title': 'A First Course in Database Systems', 'Authors': {'Author': [{'First_Name': 'Jeffrey', 'Last_Name': 'Ullman'}, {'First_Name': 'Jennifer', 'Last_Name': 'Widom'}]}}, {'@ISBN': 'ISBN-0-13-815504-6', '@Price': '100', 'Title': 'Database Systems: The Complete Book', 'Authors': {'Author': [{'First_Name': 'Hector', 'Last_Name': 'Garcia-Molina'}, {'First_Name': 'Jeffrey', 'Last_Name': 'Ullman'}, {'First_Name': 'Jennifer', 'Last_Name': 'Widom'}]}, 'Remark': 'Buy this book bundled with \"A First Course\" - a great deal!'}, {'@ISBN': 'ISBN-0-11-222222-3', '@Price': '50', 'Title': \"Hector and Jeff's Database Hints\", 'Authors': {'Author': [{'First_Name': 'Jeffrey', 'Last_Name': 'Ullman'}, {'First_Name': 'Hector', 'Last_Name': 'Garcia-Molina'}]}, 'Remark': 'An indispensible companion to your textbook'}, {'@ISBN': 'ISBN-9-88-777777-6', '@Price': '25', 'Title': \"Jennifer's Economical Database Hints\", 'Authors': {'Author': {'First_Name': 'Jennifer', 'Last_Name': 'Widom'}}}], 'Magazine': [{'@Month': 'January', '@Year': '2009', 'Title': 'National Geographic'}, {'@Month': 'February', '@Year': '2009', 'Title': 'National Geographic'}, {'@Month': 'February', '@Year': '2009', 'Title': 'Newsweek'}, {'@Month': 'March', '@Year': '2009', 'Title': \"Hector and Jeff's Database Hints\"}]}}\n",
    "# #  Variable name of Dictionary is data\n",
    "# xml = dicttoxml(D)\n",
    " \n",
    "# # Obtain decode string by decode()\n",
    "# # function\n",
    "# xml_decode = xml.decode()\n",
    " \n",
    "# xmlfile = open(\"dict.xml\", \"w\")\n",
    "# xmlfile.write(xml_decode)\n",
    "# xmlfile.close()"
   ]
  },
  {
   "cell_type": "code",
   "execution_count": 19,
   "id": "0bb4047a",
   "metadata": {},
   "outputs": [],
   "source": [
    "# Cette Fonction convertit un dictionnaire en format valide\n",
    "\n",
    "import csv\n",
    "import json\n",
    "import yaml\n",
    "import xml\n",
    "from dicttoxml import dicttoxml\n",
    "from xml.dom.minidom import parseString\n",
    "\n",
    "def dico_to_valide(dico, file_format):\n",
    "    \n",
    "    if file_format.lower() == \"csv\": \n",
    "        with open(\"new_file.csv\", 'w') as f:\n",
    "            writer = csv.writer(f)\n",
    "            key_list = list(A.keys())  \n",
    "            limit = len(A[key_list[0]])\n",
    "            writer.writerow(A.keys())\n",
    "            for i in range(limit):\n",
    "                writer.writerow(A[x][i] for x in key_list)\n",
    "    elif file_format.lower() == \"json\": \n",
    "        with open(\"new_file.json\", 'w') as f:\n",
    "            documents = json.dump(dico, f)\n",
    "    elif file_format.lower() == \"yaml\": \n",
    "        with open(\"new_file.json\", 'w') as f:\n",
    "            documents = yaml.dump(dico, f)              \n",
    "    elif file_format.lower() == \"xml\": \n",
    "        #  Variable name of Dictionary is data\n",
    "        xml = dicttoxml(dico)\n",
    "        # Obtain decode string by decode()\n",
    "        # function\n",
    "        xml_decode = xml.decode()\n",
    "\n",
    "        xmlfile = open(\"new_file.xml\", \"w\")\n",
    "        xmlfile.write(xml_decode)\n",
    "        xmlfile.close()"
   ]
  },
  {
   "cell_type": "code",
   "execution_count": null,
   "id": "6cdbb056",
   "metadata": {},
   "outputs": [],
   "source": []
  },
  {
   "cell_type": "code",
   "execution_count": null,
   "id": "0c519752",
   "metadata": {},
   "outputs": [],
   "source": []
  },
  {
   "cell_type": "code",
   "execution_count": null,
   "id": "840b78b6",
   "metadata": {},
   "outputs": [],
   "source": []
  },
  {
   "cell_type": "code",
   "execution_count": null,
   "id": "d1c75020",
   "metadata": {},
   "outputs": [],
   "source": []
  },
  {
   "cell_type": "code",
   "execution_count": null,
   "id": "3c8050e9",
   "metadata": {},
   "outputs": [],
   "source": []
  },
  {
   "cell_type": "code",
   "execution_count": null,
   "id": "50c6448f",
   "metadata": {},
   "outputs": [],
   "source": []
  },
  {
   "cell_type": "code",
   "execution_count": null,
   "id": "4d94901e",
   "metadata": {},
   "outputs": [],
   "source": []
  },
  {
   "cell_type": "code",
   "execution_count": null,
   "id": "d96119c1",
   "metadata": {},
   "outputs": [],
   "source": []
  },
  {
   "cell_type": "code",
   "execution_count": null,
   "id": "f8ccdc5e",
   "metadata": {},
   "outputs": [],
   "source": []
  },
  {
   "cell_type": "markdown",
   "id": "5d479c55",
   "metadata": {},
   "source": [
    "# CREATION DE MON MENU"
   ]
  },
  {
   "cell_type": "code",
   "execution_count": 20,
   "id": "2b70f7a0",
   "metadata": {},
   "outputs": [],
   "source": [
    "# Fonction qui convertit un fichier de format valide en dictionnaire\n",
    "import csv\n",
    "import json\n",
    "import yaml\n",
    "import xml\n",
    "import xmltodict\n",
    "\n",
    "\n",
    "def valide_to_dico(file_path):\n",
    "    chemin = file_path.split(\"/\")[-1]\n",
    "    if chemin.endswith (\".csv\"):\n",
    "        with open(file_path, mode='r') as inp:\n",
    "            reader = csv.reader(inp)\n",
    "            liste_dico = [line for line in reader]  \n",
    "            csv_dict = { liste_dico[0][i] : [liste_dico[j][i] for j in range (1,len(liste_dico))] for i in range(len(liste_dico[0]))}\n",
    "            return csv_dict\n",
    "    elif chemin.endswith (\".json\"):\n",
    "        # Ouverture du fichier Json avec la fonction open()\n",
    "        with open(file_path, mode='r') as f:  \n",
    "\n",
    "            # Convertion des données JSON en objet Python\n",
    "            json_dict = json.load(f)\n",
    "            return json_dict\n",
    "    elif chemin.endswith (\".yaml\"):    \n",
    "        # Ouverture du fichier yaml avec la fonction open\n",
    "        with open(file_path, mode='r') as f: \n",
    "            # Convertion des données yaml en objet Python\n",
    "            yaml_dict = yaml.load(f, Loader=yaml.FullLoader)\n",
    "            return yaml_dict\n",
    "    elif chemin.endswith (\".xml\"):\n",
    "        # Ouverture du fichier xml avec la fonction open\n",
    "        with open(file_path, 'r', encoding='utf-8') as f:\n",
    "            my_xml = f.read() \n",
    "\n",
    "            # Use xmltodict to parse and convert \n",
    "            # the XML document\n",
    "            xml_dict = xmltodict.parse(my_xml, dict_constructor = dict)\n",
    "\n",
    "            # Print the dictionary\n",
    "            return xml_dict\n"
   ]
  },
  {
   "cell_type": "code",
   "execution_count": 21,
   "id": "6249b657",
   "metadata": {},
   "outputs": [],
   "source": [
    "# Cette Fonction convertit un dictionnaire en format valide\n",
    "\n",
    "import csv\n",
    "import json\n",
    "import yaml\n",
    "import xml\n",
    "from dicttoxml import dicttoxml\n",
    "from xml.dom.minidom import parseString\n",
    "\n",
    "def dico_to_valide(dico, file_format):\n",
    "    \n",
    "    if file_format.lower() == \"csv\": \n",
    "        with open(\"new_file.csv\", 'w') as f:\n",
    "            writer = csv.writer(f)\n",
    "            key_list = list(dico.keys())  \n",
    "            limit = len(dico[key_list[0]])\n",
    "            writer.writerow(dico.keys())\n",
    "            for i in range(limit):\n",
    "                writer.writerow(dico[x][i] for x in key_list)\n",
    "    elif file_format.lower() == \"json\": \n",
    "        with open(\"new_file.json\", 'w') as f:\n",
    "            documents = json.dump(dico, f)\n",
    "    elif file_format.lower() == \"yaml\": \n",
    "        with open(\"new_file.yaml\", 'w') as f:\n",
    "            documents = yaml.dump(dico, f)              \n",
    "    elif file_format.lower() == \"xml\": \n",
    "        #  Variable name of Dictionary is data\n",
    "        xml = dicttoxml(dico)\n",
    "        # Obtain decode string by decode()\n",
    "        # function\n",
    "        xml_decode = xml.decode()\n",
    "\n",
    "        xmlfile = open(\"new_file.xml\", \"w\")\n",
    "        xmlfile.write(xml_decode)\n",
    "        xmlfile.close()"
   ]
  },
  {
   "cell_type": "code",
   "execution_count": 22,
   "id": "e071ab5d",
   "metadata": {},
   "outputs": [
    {
     "name": "stdout",
     "output_type": "stream",
     "text": [
      "Le fichier sélectionné se trouve dans :\n",
      "/home/biglaye/Documents/Sonatel_academy/Systeme_fichier/Projet/eleves.csv\n"
     ]
    }
   ],
   "source": [
    "from tkinter import *\n",
    "from tkinter import filedialog\n",
    "from tkinter import messagebox\n",
    "\n",
    "\n",
    "# Création d'une instance du cadre tkinter        \n",
    "ws = Tk()\n",
    "ws.title(\"Menu de Selection de Fichiers\")\n",
    "\n",
    "\n",
    "# Définition de la géométrie du cadre tkinter\n",
    "ws.geometry(\"750x350\")\n",
    "ws.eval('tk::PlaceWindow . center')\n",
    "\n",
    "\n",
    "\n",
    "def get_file_path():\n",
    "    global file_path1\n",
    "\n",
    "    file_path1= filedialog.askopenfilename(title = \"Select A File\", filetypes = (('text files', '*.txt'),\n",
    "        ('All files', '*.*')))\n",
    "    if file_path1:\n",
    "        l1 = Label(ws, text = \"File path: \" + file_path1).pack()\n",
    "        print(f\"Le fichier sélectionné se trouve dans :\\n{file_path1}\")\n",
    "        ws.destroy()\n",
    "\n",
    "# Ajouter un widget label\n",
    "label = Label(ws, text=\"Cliquez sur le bouton Naviguez pour parcourir les fichiers\", font=('Georgia 18'))\n",
    "label.pack(pady=10)\n",
    "\n",
    "\n",
    "# Création d'un bouton\n",
    "button = Button(ws, text = \"Naviguez\", command = get_file_path).pack(pady=10)\n",
    "\n",
    "\n",
    "ws.mainloop()"
   ]
  },
  {
   "cell_type": "code",
   "execution_count": 26,
   "id": "a83567a4",
   "metadata": {},
   "outputs": [
    {
     "name": "stdout",
     "output_type": "stream",
     "text": [
      "\n",
      "        1. Choisisser un format de sortie différent du format du fichier récupéré.\n",
      "        0. Exit/Quit\n",
      "        \n",
      "1\n",
      "Donner votre format de sortie \n",
      "IOU\n",
      "Veuillez choisir un format de fichier valide\n",
      "csv\n",
      "Veuillez choisir un autre format différent du format choisi\n",
      "json\n",
      "Le chemin absolu du fichier de sortie est :\n",
      "/home/biglaye/Documents/Sonatel_academy/Systeme_fichier/Projet/new_file.json\n",
      "\n",
      "            1. Choisisser un autre format de sortie différent du format du fichier récupéré.\n",
      "            0. Exit/Quit\n",
      "            \n",
      "csv\n",
      "1\n",
      "Donner votre format de sortie \n",
      "csv\n",
      "Veuillez choisir un autre format différent du format choisi\n",
      "json\n",
      "Le chemin absolu du fichier de sortie est :\n",
      "/home/biglaye/Documents/Sonatel_academy/Systeme_fichier/Projet/new_file.json\n",
      "\n",
      "            1. Choisisser un autre format de sortie différent du format du fichier récupéré.\n",
      "            0. Exit/Quit\n",
      "            \n",
      "0\n",
      "Au revoir !\n"
     ]
    }
   ],
   "source": [
    "if valide_file(file_path1):\n",
    "    print(\"\"\"\n",
    "        1. Choisisser un format de sortie différent du format du fichier récupéré.\n",
    "        0. Exit/Quit\n",
    "        \"\"\")\n",
    "    while True:\n",
    "        choix = input()\n",
    "        if choix == \"1\":\n",
    "            print(\"Donner votre format de sortie \")\n",
    "            while True:\n",
    "                form = input()\n",
    "                if file_path1.endswith(form.lower()):\n",
    "                    print(\"Veuillez choisir un autre format différent du format choisi\")\n",
    "                elif form.lower() not in ['csv', 'json', 'yaml', 'xml']:\n",
    "                    print(\"Veuillez choisir un format de fichier valide\")\n",
    "                else:\n",
    "                    file_path1_to_dic = valide_to_dico(file_path1)\n",
    "                    new_file = dico_to_valide(file_path1_to_dic, form)\n",
    "                    new_path = \"/\".join(file_path1.split(\"/\")[:-1])\n",
    "                    new_path = new_path + \"/new_file.\" + form\n",
    "                    print(f\"Le chemin absolu du fichier de sortie est :\\n{new_path}\")\n",
    "                    break\n",
    "            print(\"\"\"\n",
    "            1. Choisisser un autre format de sortie différent du format du fichier récupéré.\n",
    "            0. Exit/Quit\n",
    "            \"\"\")\n",
    "        elif choix == \"0\":\n",
    "            print(\"Au revoir !\")\n",
    "            break\n",
    "else:\n",
    "    print(\"Ce fichier n'est pas dans un format valide\")\n",
    "                    \n",
    "        "
   ]
  },
  {
   "cell_type": "code",
   "execution_count": null,
   "id": "f3b1c915",
   "metadata": {},
   "outputs": [],
   "source": []
  },
  {
   "cell_type": "code",
   "execution_count": null,
   "id": "6ccb0ab9",
   "metadata": {},
   "outputs": [],
   "source": [
    "\n",
    "   "
   ]
  },
  {
   "cell_type": "code",
   "execution_count": null,
   "id": "ea3177cb",
   "metadata": {},
   "outputs": [],
   "source": []
  },
  {
   "cell_type": "code",
   "execution_count": null,
   "id": "3e8069db",
   "metadata": {},
   "outputs": [],
   "source": []
  },
  {
   "cell_type": "code",
   "execution_count": null,
   "id": "02cf7c12",
   "metadata": {},
   "outputs": [],
   "source": []
  },
  {
   "cell_type": "code",
   "execution_count": null,
   "id": "9240b07f",
   "metadata": {},
   "outputs": [],
   "source": []
  },
  {
   "cell_type": "code",
   "execution_count": null,
   "id": "da00d3d9",
   "metadata": {},
   "outputs": [],
   "source": []
  },
  {
   "cell_type": "code",
   "execution_count": null,
   "id": "53482b3e",
   "metadata": {},
   "outputs": [],
   "source": []
  },
  {
   "cell_type": "code",
   "execution_count": null,
   "id": "003e2eac",
   "metadata": {},
   "outputs": [],
   "source": []
  },
  {
   "cell_type": "code",
   "execution_count": null,
   "id": "cbc1bdd9",
   "metadata": {},
   "outputs": [],
   "source": []
  }
 ],
 "metadata": {
  "kernelspec": {
   "display_name": "Python 3.9.5 64-bit",
   "language": "python",
   "name": "python395jvsc74a57bd0f9f85f796d01129d0dd105a088854619f454435301f6ffec2fea96ecbd9be4ac"
  },
  "language_info": {
   "codemirror_mode": {
    "name": "ipython",
    "version": 3
   },
   "file_extension": ".py",
   "mimetype": "text/x-python",
   "name": "python",
   "nbconvert_exporter": "python",
   "pygments_lexer": "ipython3",
   "version": "3.9.5"
  }
 },
 "nbformat": 4,
 "nbformat_minor": 5
}
